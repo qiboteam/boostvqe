{
 "cells": [
  {
   "cell_type": "markdown",
   "metadata": {},
   "source": [
    "# Optimisation of GCI circuit in quantinuum"
   ]
  },
  {
   "cell_type": "code",
   "execution_count": 13,
   "metadata": {},
   "outputs": [],
   "source": [
    "from pytket import Circuit, OpType\n",
    "from pytket.circuit.display import render_circuit_jupyter\n",
    "import pytket.qasm\n",
    "from datetime import datetime\n",
    "from quantinuum_utils import *\n",
    "import qnexus as qnx  \n",
    "from collections import Counter\n",
    "import matplotlib.pyplot as plt\n",
    "import numpy as np"
   ]
  },
  {
   "cell_type": "code",
   "execution_count": 2,
   "metadata": {},
   "outputs": [],
   "source": [
    "import os\n",
    "os.chdir('..')\n",
    "optimizer = 'sgd'\n",
    "nqubits = 4\n",
    "nlayer = 1\n",
    "folder_path = f'results/circuit_qasm/{optimizer}_{nqubits}q_{nlayer}l_XXZ/'\n",
    "vqe_circ_file = folder_path + 'vqe_circ.qasm'\n",
    "gci_circ_file = folder_path + 'gci_circ.qasm'"
   ]
  },
  {
   "cell_type": "code",
   "execution_count": 3,
   "metadata": {},
   "outputs": [],
   "source": [
    "vqe_circ = pytket.qasm.circuit_from_qasm(vqe_circ_file)\n",
    "gci_circ = pytket.qasm.circuit_from_qasm(gci_circ_file)"
   ]
  },
  {
   "cell_type": "code",
   "execution_count": 6,
   "metadata": {},
   "outputs": [
    {
     "name": "stdout",
     "output_type": "stream",
     "text": [
      "🌐 Browser log in initiated.\n"
     ]
    },
    {
     "data": {
      "text/html": [
       "<pre style=\"white-space:pre;overflow-x:auto;line-height:normal;font-family:Menlo,'DejaVu Sans Mono',consolas,'Courier New',monospace\">╭────────────────────────────────────────────────────────────────────────────────────────╮\n",
       "│                                                                                        │\n",
       "│         Confirm that the browser shows the following code and click 'allow device':    │\n",
       "│                                                                                        │\n",
       "│                                      gnAlmA                                            │\n",
       "│                                                                                        │\n",
       "╰────────────────────────────────────────────────────────────────────────────────────────╯\n",
       "</pre>\n"
      ],
      "text/plain": [
       "╭────────────────────────────────────────────────────────────────────────────────────────╮\n",
       "│                                                                                        │\n",
       "│         Confirm that the browser shows the following code and click 'allow device':    │\n",
       "│                                                                                        │\n",
       "│                                      gnAlmA                                            │\n",
       "│                                                                                        │\n",
       "╰────────────────────────────────────────────────────────────────────────────────────────╯\n"
      ]
     },
     "metadata": {},
     "output_type": "display_data"
    },
    {
     "name": "stdout",
     "output_type": "stream",
     "text": [
      "Browser didn't open automatically? Use this link: \u001b[34mhttps://nexus.quantinuum.com/auth/device/browser?otp=gnAlmAlFRd1ZYDdycpIcqroocNNa7iCJ_oMkGBPlfXPz-UCJdkNW3bG1mwsi7jpEzwkfcQrBHk8WWIOwfU1fGg\n",
      "✅ Successfully logged in as xiaoyue.li@ntu.edu.sg using the browser.\n"
     ]
    }
   ],
   "source": [
    "# connect to nexus account\n",
    "qnx.client.auth.login()"
   ]
  },
  {
   "cell_type": "code",
   "execution_count": 7,
   "metadata": {},
   "outputs": [],
   "source": [
    "# connect to nexus project\n",
    "project_name = \"boostvqe_XXZ_optimisation\"\n",
    "project_ref = qnx.projects.get_or_create(name=project_name)\n",
    "project_ref.df()\n",
    "\n",
    "# set this in the context\n",
    "qnx.context.set_active_project(project_ref)"
   ]
  },
  {
   "cell_type": "markdown",
   "metadata": {},
   "source": [
    "## Create measurement setup"
   ]
  },
  {
   "cell_type": "code",
   "execution_count": 8,
   "metadata": {},
   "outputs": [],
   "source": [
    "# XXZ model\n",
    "nqubits = 4\n",
    "delta = 0.5\n",
    "terms = {}\n",
    "for i in range(nqubits):\n",
    "    term_x_i = create_qubit_pauli_string(nqubits, {i: Pauli.X, (i+1)%nqubits: Pauli.X}, 1)\n",
    "    term_y_i = create_qubit_pauli_string(nqubits, {i: Pauli.Y, (i+1)%nqubits: Pauli.Y}, 1)\n",
    "    term_z_i = create_qubit_pauli_string(nqubits, {i: Pauli.Z, (i+1)%nqubits: Pauli.Z}, delta)\n",
    "    terms.update(term_x_i)\n",
    "    terms.update(term_y_i)\n",
    "    terms.update(term_z_i)\n",
    "ham_quantinuum = QubitPauliOperator(terms)"
   ]
  },
  {
   "cell_type": "code",
   "execution_count": 9,
   "metadata": {},
   "outputs": [],
   "source": [
    "terms = [term for term in ham_quantinuum._dict.keys()]\n",
    "measurement_setup = measurement_reduction(\n",
    "    terms, strat=PauliPartitionStrat.CommutingSets\n",
    ")"
   ]
  },
  {
   "cell_type": "markdown",
   "metadata": {},
   "source": [
    "## Generate measurement circuits"
   ]
  },
  {
   "cell_type": "code",
   "execution_count": 10,
   "metadata": {},
   "outputs": [],
   "source": [
    "# create list of circuits for measurement in different bases\n",
    "vqe_circuit_ref_list = []\n",
    "gci_circuit_ref_list = []\n",
    "for i, mc in enumerate(measurement_setup.measurement_circs):\n",
    "    c = vqe_circ.copy()\n",
    "    c.append(mc)\n",
    "    measurement_vqe_circuit_ref = qnx.circuits.upload(\n",
    "                circuit=c, \n",
    "                name=f\"measurement vqe circuit {i}\",\n",
    "            )\n",
    "    c = gci_circ.copy()\n",
    "    c.append(mc)\n",
    "    measurement_gci_circuit_ref = qnx.circuits.upload(\n",
    "                circuit=c, \n",
    "                name=f\"measurement gci circuit {i}\",\n",
    "            )\n",
    "    vqe_circuit_ref_list.append(measurement_vqe_circuit_ref)\n",
    "    gci_circuit_ref_list.append(measurement_gci_circuit_ref)"
   ]
  },
  {
   "cell_type": "markdown",
   "metadata": {},
   "source": [
    "## Run optimization levels"
   ]
  },
  {
   "cell_type": "code",
   "execution_count": 12,
   "metadata": {},
   "outputs": [],
   "source": [
    "from pytket.circuit import OpType\n",
    "from datetime import datetime\n",
    "\n",
    "# Define your optimization levels\n",
    "optimization_levels = [0,1,2]\n",
    "\n",
    "# Dictionary to store compiled circuits per optimization level\n",
    "vqe_compiled_circuits_dict = {}\n",
    "gci_compiled_circuits_dict = {}\n",
    "\n",
    "# Compile circuits for each optimization level\n",
    "for opt_level in optimization_levels:\n",
    "    vqe_compile_job = qnx.compile(\n",
    "        name=f\"compile_job_VQE_opt_{opt_level}_{datetime.now()}\",\n",
    "        circuits=vqe_circuit_ref_list,\n",
    "        optimisation_level=opt_level,\n",
    "        backend_config=qnx.QuantinuumConfig(device_name='H1-Emulator'),\n",
    "        timeout=None,\n",
    "    )\n",
    "    vqe_compiled_circuits_dict[opt_level] = vqe_compile_job\n",
    "    gci_compile_job = qnx.compile(\n",
    "        name=f\"compile_job_GCI_opt_{opt_level}_{datetime.now()}\",\n",
    "        circuits=gci_circuit_ref_list,\n",
    "        optimisation_level=opt_level,\n",
    "        backend_config=qnx.QuantinuumConfig(device_name='H1-Emulator'),\n",
    "        timeout=None,\n",
    "    )\n",
    "    gci_compiled_circuits_dict[opt_level] = gci_compile_job"
   ]
  },
  {
   "cell_type": "markdown",
   "metadata": {},
   "source": [
    "## Analyze circuit composition"
   ]
  },
  {
   "cell_type": "code",
   "execution_count": 14,
   "metadata": {},
   "outputs": [],
   "source": [
    "# Function to retrieve and analyze compiled circuits from a compile job\n",
    "def retrieve_and_analyze_compiled_circuits(compile_jobs, opt_level):\n",
    "    \"\"\"Waits for jobs to complete, downloads results, and analyzes gate counts.\"\"\"\n",
    "    job = compile_jobs[0]\n",
    "    # Download the compiled circuit\n",
    "    compiled_circuit = job.download_circuit()\n",
    "    \n",
    "    # Analyze gate counts\n",
    "    circuit_depth = compiled_circuit.depth()\n",
    "    total_gates = compiled_circuit.n_gates\n",
    "    # for command in compiled_circuit:\n",
    "    #     print(command.op.type)\n",
    "    # num_cnots = sum(1 for command in compiled_circuit if command.op.type == OpType.CZ)\n",
    "    # print(num_cnots)\n",
    "    \n",
    "    # Print the analysis\n",
    "    print(f\"--- Optimization Level: {opt_level} ---\")\n",
    "    print(f\"Circuit Depth: {circuit_depth}\")\n",
    "    print(f\"Total Gate Count: {total_gates}\")\n",
    "    # print(f\"CNOT Gate Count: {num_cnots}\\n\")\n",
    "\n",
    "\n",
    "def plot_grouped_op_type_frequencies(circuits, labels, figsize=(14, 8)):\n",
    "    \"\"\"\n",
    "    Generates a grouped bar plot of operation type frequencies for multiple pytket circuits,\n",
    "    with frequency values displayed on top of each bar.\n",
    "\n",
    "    Parameters:\n",
    "    - circuits (list of pytket.circuit.Circuit): List of pytket circuits to analyze.\n",
    "    - labels (list of str): Labels for each circuit (e.g., optimization levels).\n",
    "    - figsize (tuple, optional): Size of the figure. Default is (14, 8).\n",
    "\n",
    "    Returns:\n",
    "    - None: Displays the plot.\n",
    "    \"\"\"\n",
    "\n",
    "    if len(circuits) != len(labels):\n",
    "        raise ValueError(\"The number of circuits must match the number of labels.\")\n",
    "\n",
    "    # Step 1: Aggregate all unique OpTypes across all circuits\n",
    "    all_op_types = set()\n",
    "    for circuit in circuits:\n",
    "        all_op_types.update([command.op.type for command in circuit])\n",
    "    all_op_types = sorted(all_op_types, key=lambda x: x.name)  # Sort alphabetically by name\n",
    "\n",
    "    # Step 2: Count frequencies for each circuit\n",
    "    freq_dicts = []\n",
    "    for circuit in circuits:\n",
    "        op_types = [command.op.type for command in circuit]\n",
    "        op_counts = Counter(op_types)\n",
    "        # Ensure all OpTypes are present, even if count is zero\n",
    "        freq = {op_type.name: op_counts.get(op_type, 0) for op_type in all_op_types}\n",
    "        freq_dicts.append(freq)\n",
    "\n",
    "    # Step 3: Prepare data for plotting\n",
    "    op_labels = [op_type.name for op_type in all_op_types]\n",
    "    num_op_types = len(op_labels)\n",
    "    num_circuits = len(circuits)\n",
    "\n",
    "    # Set the positions and width for the bars\n",
    "    bar_width = 0.8 / num_circuits  # Total width is 0.8, divided among circuits\n",
    "    indices = np.arange(num_op_types)\n",
    "\n",
    "    # Step 4: Create the plot\n",
    "    plt.figure(figsize=figsize)\n",
    "\n",
    "    # Set default colors if none provided\n",
    "    colors = plt.cm.tab10.colors  # Default matplotlib color cycle\n",
    "\n",
    "    # Ensure there are enough colors\n",
    "    if len(colors) < len(circuits):\n",
    "        # Repeat colors if not enough\n",
    "        colors = colors * (len(circuits) // len(colors) + 1)\n",
    "\n",
    "    for i, freq in enumerate(freq_dicts):\n",
    "        counts = [freq[op] for op in op_labels]\n",
    "        # Calculate position for each circuit's bars\n",
    "        bar_positions = indices - 0.4 + (i + 0.5) * bar_width\n",
    "        bars = plt.bar(bar_positions, counts, width=bar_width, label=labels[i], color=colors[i])\n",
    "\n",
    "        # Add frequency labels on top of each bar\n",
    "        for bar in bars:\n",
    "            height = bar.get_height()\n",
    "            plt.annotate('{}'.format(height),\n",
    "                         xy=(bar.get_x() + bar.get_width() / 2, height),\n",
    "                         xytext=(0, 3),  # 3 points vertical offset\n",
    "                         textcoords=\"offset points\",\n",
    "                         ha='center', va='bottom', fontsize=9)\n",
    "\n",
    "    # Step 5: Customize the plot\n",
    "    plt.xlabel('Operation Type', fontsize=14)\n",
    "    plt.ylabel('Frequency', fontsize=14)\n",
    "    plt.title('Frequency of Operation Types Across Circuits', fontsize=16)\n",
    "    plt.xticks(indices, op_labels, rotation=45, ha='right')\n",
    "    plt.legend(title='Circuits', fontsize=12, title_fontsize=12)\n",
    "    plt.tight_layout()\n",
    "\n",
    "    # Optional: Add gridlines for better readability\n",
    "    plt.grid(axis='y', linestyle='--', alpha=0.7)\n",
    "\n",
    "    # Step 6: Display the plot\n",
    "    plt.show()"
   ]
  },
  {
   "cell_type": "code",
   "execution_count": 15,
   "metadata": {},
   "outputs": [
    {
     "name": "stdout",
     "output_type": "stream",
     "text": [
      "\n",
      "Processing Optimization Level: 0\n",
      "--- Optimization Level: 0 ---\n",
      "Circuit Depth: 498\n",
      "Total Gate Count: 1662\n",
      "\n",
      "Processing Optimization Level: 1\n",
      "--- Optimization Level: 1 ---\n",
      "Circuit Depth: 184\n",
      "Total Gate Count: 546\n",
      "\n",
      "Processing Optimization Level: 2\n",
      "--- Optimization Level: 2 ---\n",
      "Circuit Depth: 144\n",
      "Total Gate Count: 434\n"
     ]
    }
   ],
   "source": [
    "# Iterate over each optimization level and process the compile jobs\n",
    "circuits = []\n",
    "for opt_level, compile_jobs in gci_compiled_circuits_dict.items():\n",
    "    print(f\"\\nProcessing Optimization Level: {opt_level}\")\n",
    "    retrieve_and_analyze_compiled_circuits(compile_jobs, opt_level)\n",
    "    job = compile_jobs[0]\n",
    "    # Download the compiled circuit\n",
    "    compiled_circuit = job.download_circuit()\n",
    "    circuits.append(compiled_circuit)"
   ]
  },
  {
   "cell_type": "code",
   "execution_count": 16,
   "metadata": {},
   "outputs": [],
   "source": [
    "circuits.append(gci_circ)"
   ]
  },
  {
   "cell_type": "code",
   "execution_count": 17,
   "metadata": {},
   "outputs": [
    {
     "data": {
      "image/png": "[encoded data removed]",
      "text/plain": [
       "<Figure size 1400x800 with 1 Axes>"
      ]
     },
     "metadata": {},
     "output_type": "display_data"
    }
   ],
   "source": [
    "plot_grouped_op_type_frequencies(circuits, labels=[f'optimisation level {optimisation_level}' for optimisation_level in range(3)]+['before compilation'])"
   ]
  },
  {
   "cell_type": "markdown",
   "metadata": {},
   "source": [
    "## Execute circuits"
   ]
  },
  {
   "cell_type": "code",
   "execution_count": 28,
   "metadata": {},
   "outputs": [],
   "source": [
    "def submit_execution_jobs(compiled_circuits_dict, circuit_type, nshots=2000):\n",
    "    \"\"\"\n",
    "    Submits execution jobs for compiled circuits to the QNX emulator.\n",
    "\n",
    "    Parameters:\n",
    "    - compiled_circuits_dict (dict): Dictionary mapping optimization levels to compile jobs.\n",
    "    - circuit_type (str): Type of circuit ('VQE' or 'GCI') for labeling purposes.\n",
    "    - nshots (int): Number of shots per circuit.\n",
    "\n",
    "    Returns:\n",
    "    - execution_jobs_dict (dict): Dictionary mapping optimization levels to execution jobs.\n",
    "    \"\"\"\n",
    "    execution_jobs_dict = {}\n",
    "    \n",
    "    for opt_level, compile_job in compiled_circuits_dict.items():\n",
    "        # Retrieve compiled circuits from the compile job\n",
    "        \n",
    "        # Submit execution jobs for each compiled circuit\n",
    "        execute_job = qnx.start_execute_job(\n",
    "            name=f\"execute_job_{circuit_type}_opt_{opt_level}_{datetime.now().strftime('%Y%m%d_%H%M%S')}\",\n",
    "            circuits=compile_job,\n",
    "            backend_config=qnx.QuantinuumConfig(device_name='H1-Emulator'),\n",
    "            n_shots=[nshots]*len(vqe_circuit_ref_list)\n",
    "        )\n",
    "        \n",
    "        execution_jobs_dict[opt_level] = execute_job\n",
    "        print(f\"Submitted execution job for {circuit_type} at optimization level {opt_level}.\")\n",
    "    \n",
    "    return execution_jobs_dict\n",
    "\n",
    "def retrieve_execution_results(execution_jobs_dict, circuit_type):\n",
    "    \"\"\"\n",
    "    Waits for execution jobs to complete and retrieves the results.\n",
    "\n",
    "    Parameters:\n",
    "    - execution_jobs_dict (dict): Dictionary mapping optimization levels to execution jobs.\n",
    "    - circuit_type (str): Type of circuit ('VQE' or 'GCI') for labeling purposes.\n",
    "\n",
    "    Returns:\n",
    "    - results_dict (dict): Dictionary mapping optimization levels to list of results per circuit.\n",
    "    \"\"\"\n",
    "    results_dict = {}\n",
    "    \n",
    "    for opt_level, execute_job in execution_jobs_dict.items():\n",
    "        print(f\"Waiting for execution job of {circuit_type} at optimization level {opt_level} to complete...\")\n",
    "        # Wait until the execution job is done\n",
    "        execute_job.wait_until_done()\n",
    "        \n",
    "        # Retrieve the execution results\n",
    "        execution_results = [job.download_result() for job in qnx.jobs.results(execute_job)]\n",
    "        \n",
    "        results_dict[opt_level] = execution_results\n",
    "        print(f\"Retrieved results for {circuit_type} at optimization level {opt_level}.\")\n",
    "    \n",
    "    return results_dict\n"
   ]
  },
  {
   "cell_type": "code",
   "execution_count": 30,
   "metadata": {},
   "outputs": [
    {
     "name": "stdout",
     "output_type": "stream",
     "text": [
      "Submitted execution job for VQE at optimization level 0.\n",
      "Submitted execution job for VQE at optimization level 1.\n",
      "Submitted execution job for VQE at optimization level 2.\n",
      "Submitted execution job for GCI at optimization level 0.\n",
      "Submitted execution job for GCI at optimization level 1.\n",
      "Submitted execution job for GCI at optimization level 2.\n"
     ]
    }
   ],
   "source": [
    "# Define your optimization levels\n",
    "optimization_levels = [0, 1, 2]\n",
    "\n",
    "# Dictionaries to store compiled circuits per optimization level (already defined in your code)\n",
    "# vqe_compiled_circuits_dict = {}\n",
    "# gci_compiled_circuits_dict = {}\n",
    "\n",
    "# Assuming the compiled circuits are already in vqe_compiled_circuits_dict and gci_compiled_circuits_dict\n",
    "\n",
    "# Submit execution jobs for VQE circuits\n",
    "vqe_execution_jobs_dict = submit_execution_jobs(\n",
    "    compiled_circuits_dict=vqe_compiled_circuits_dict,\n",
    "    circuit_type='VQE',\n",
    "    nshots=2000\n",
    ")\n",
    "\n",
    "# Submit execution jobs for GCI circuits\n",
    "gci_execution_jobs_dict = submit_execution_jobs(\n",
    "    compiled_circuits_dict=gci_compiled_circuits_dict,\n",
    "    circuit_type='GCI',\n",
    "    nshots=2000\n",
    ")"
   ]
  },
  {
   "cell_type": "markdown",
   "metadata": {},
   "source": [
    "## Retrieve execution results"
   ]
  },
  {
   "cell_type": "code",
   "execution_count": 39,
   "metadata": {},
   "outputs": [
    {
     "name": "stdout",
     "output_type": "stream",
     "text": [
      "Execution status for optimisation level 0\n",
      "JobStatus(status=<StatusEnum.COMPLETED: 'Circuit has completed. Results are ready.'>, message='The job is completed.', error_detail=None, completed_time=datetime.datetime(2024, 11, 19, 6, 50, 51, 586720, tzinfo=datetime.timezone.utc), queued_time=None, submitted_time=datetime.datetime(2024, 11, 19, 6, 47, 25, 569743, tzinfo=datetime.timezone.utc), running_time=datetime.datetime(2024, 11, 19, 6, 50, 49, 243685, tzinfo=datetime.timezone.utc), cancelled_time=None, error_time=None, queue_position=None)\n",
      "JobStatus(status=<StatusEnum.COMPLETED: 'Circuit has completed. Results are ready.'>, message='The job is completed.', error_detail=None, completed_time=datetime.datetime(2024, 11, 19, 6, 51, 8, 4648, tzinfo=datetime.timezone.utc), queued_time=None, submitted_time=datetime.datetime(2024, 11, 19, 6, 47, 26, 713668, tzinfo=datetime.timezone.utc), running_time=datetime.datetime(2024, 11, 19, 6, 50, 55, 108206, tzinfo=datetime.timezone.utc), cancelled_time=None, error_time=None, queue_position=None)\n",
      "Execution status for optimisation level 1\n",
      "JobStatus(status=<StatusEnum.COMPLETED: 'Circuit has completed. Results are ready.'>, message='The job is completed.', error_detail=None, completed_time=datetime.datetime(2024, 11, 19, 6, 50, 54, 264905, tzinfo=datetime.timezone.utc), queued_time=None, submitted_time=datetime.datetime(2024, 11, 19, 6, 47, 25, 955897, tzinfo=datetime.timezone.utc), running_time=datetime.datetime(2024, 11, 19, 6, 50, 51, 754778, tzinfo=datetime.timezone.utc), cancelled_time=None, error_time=None, queue_position=None)\n",
      "JobStatus(status=<StatusEnum.COMPLETED: 'Circuit has completed. Results are ready.'>, message='The job is completed.', error_detail=None, completed_time=datetime.datetime(2024, 11, 19, 6, 51, 20, 958220, tzinfo=datetime.timezone.utc), queued_time=None, submitted_time=datetime.datetime(2024, 11, 19, 6, 47, 27, 104066, tzinfo=datetime.timezone.utc), running_time=datetime.datetime(2024, 11, 19, 6, 51, 8, 24381, tzinfo=datetime.timezone.utc), cancelled_time=None, error_time=None, queue_position=None)\n",
      "Execution status for optimisation level 2\n",
      "JobStatus(status=<StatusEnum.COMPLETED: 'Circuit has completed. Results are ready.'>, message='The job is completed.', error_detail=None, completed_time=datetime.datetime(2024, 11, 19, 6, 50, 55, 757371, tzinfo=datetime.timezone.utc), queued_time=None, submitted_time=datetime.datetime(2024, 11, 19, 6, 47, 26, 334431, tzinfo=datetime.timezone.utc), running_time=datetime.datetime(2024, 11, 19, 6, 50, 53, 585246, tzinfo=datetime.timezone.utc), cancelled_time=None, error_time=None, queue_position=None)\n",
      "JobStatus(status=<StatusEnum.COMPLETED: 'Circuit has completed. Results are ready.'>, message='The job is completed.', error_detail=None, completed_time=datetime.datetime(2024, 11, 19, 6, 51, 31, 833064, tzinfo=datetime.timezone.utc), queued_time=None, submitted_time=datetime.datetime(2024, 11, 19, 6, 47, 27, 494451, tzinfo=datetime.timezone.utc), running_time=datetime.datetime(2024, 11, 19, 6, 51, 19, 315390, tzinfo=datetime.timezone.utc), cancelled_time=None, error_time=None, queue_position=None)\n"
     ]
    }
   ],
   "source": [
    "# check execution status\n",
    "for i in range(3):\n",
    "    print(f'Execution status for optimisation level {i}')\n",
    "    print(qnx.jobs.status(vqe_execution_jobs_dict[i]))\n",
    "    print(qnx.jobs.status(gci_execution_jobs_dict[i]))"
   ]
  },
  {
   "cell_type": "code",
   "execution_count": null,
   "metadata": {},
   "outputs": [
    {
     "name": "stdout",
     "output_type": "stream",
     "text": [
      "Retrieving results for optimisation level 0\n",
      "Retrieving results for optimisation level 1\n",
      "Retrieving results for optimisation level 2\n"
     ]
    }
   ],
   "source": [
    "# retrieve execution results\n",
    "vqe_results = {}\n",
    "gci_results = {}\n",
    "for i in range(3):\n",
    "    print(f'Retrieving results for optimisation level {i}')\n",
    "    vqe_result = [job.download_result() for job in qnx.jobs.results(vqe_execution_jobs_dict[i])]\n",
    "    gci_result = [job.download_result() for job in qnx.jobs.results(gci_execution_jobs_dict[i])]\n",
    "    vqe_results[i] = vqe_result\n",
    "    gci_results[i] = gci_result"
   ]
  },
  {
   "cell_type": "code",
   "execution_count": 41,
   "metadata": {},
   "outputs": [
    {
     "name": "stdout",
     "output_type": "stream",
     "text": [
      "Expectations from ptimisation level 0\n",
      "vqe: -6.143000000000001\n",
      "gci: -5.503\n",
      "Expectations from ptimisation level 1\n",
      "vqe: -6.1129999999999995\n",
      "gci: -5.485\n",
      "Expectations from ptimisation level 2\n",
      "vqe: -5.987\n",
      "gci: -6.286\n"
     ]
    }
   ],
   "source": [
    "for i in range (3):\n",
    "    print(f'Expectations from ptimisation level {i}')\n",
    "    expval_vqe = compute_expectation_value_from_results(\n",
    "    vqe_results[i], measurement_setup, ham_quantinuum\n",
    ")\n",
    "    expval_gci = compute_expectation_value_from_results(\n",
    "    gci_results[i], measurement_setup, ham_quantinuum\n",
    ")\n",
    "    print('vqe:', expval_vqe)\n",
    "    print('gci:', expval_gci)"
   ]
  }
 ],
 "metadata": {
  "kernelspec": {
   "display_name": "Python 3",
   "language": "python",
   "name": "python3"
  },
  "language_info": {
   "codemirror_mode": {
    "name": "ipython",
    "version": 3
   },
   "file_extension": ".py",
   "mimetype": "text/x-python",
   "name": "python",
   "nbconvert_exporter": "python",
   "pygments_lexer": "ipython3",
   "version": "3.11.10"
  }
 },
 "nbformat": 4,
 "nbformat_minor": 2
}
