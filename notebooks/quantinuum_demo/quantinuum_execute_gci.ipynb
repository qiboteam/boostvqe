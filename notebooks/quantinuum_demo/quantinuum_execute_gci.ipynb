{
 "cells": [
  {
   "cell_type": "markdown",
   "metadata": {},
   "source": [
    "# Run Boostvqe in Quantinuum\n",
    "\n",
    "Following our example in the notebook `gci_boostvqe_circuit_synthesis.ipynb`, we will load the VQE and GCI circuits and run on Quantinuum Nexus emulators."
   ]
  },
  {
   "cell_type": "markdown",
   "metadata": {},
   "source": [
    "## Load VQE and GCI circuits"
   ]
  },
  {
   "cell_type": "code",
   "execution_count": 1,
   "metadata": {},
   "outputs": [],
   "source": [
    "from pytket import Circuit, OpType\n",
    "from pytket.circuit.display import render_circuit_jupyter\n",
    "import pytket.qasm\n",
    "from datetime import datetime\n",
    "from quantinuum_utils import *"
   ]
  },
  {
   "cell_type": "code",
   "execution_count": 2,
   "metadata": {},
   "outputs": [],
   "source": [
    "import os\n",
    "os.chdir('..')\n",
    "optimizer = 'sgd'\n",
    "nqubits = 4\n",
    "nlayer = 1\n",
    "folder_path = f'results/circuit_qasm/{optimizer}_{nqubits}q_{nlayer}l_XXZ/'\n",
    "vqe_circ_file = folder_path + 'vqe_circ_step1.qasm'\n",
    "gci_circ_file = folder_path + 'gci_circ_step1.qasm'"
   ]
  },
  {
   "cell_type": "code",
   "execution_count": 3,
   "metadata": {},
   "outputs": [],
   "source": [
    "vqe_circ = pytket.qasm.circuit_from_qasm(vqe_circ_file)\n",
    "# render_circuit_jupyter(vqe_circ)"
   ]
  },
  {
   "cell_type": "code",
   "execution_count": 4,
   "metadata": {},
   "outputs": [],
   "source": [
    "gci_circ = pytket.qasm.circuit_from_qasm(gci_circ_file)\n",
    "# render_circuit_jupyter(gci_circ)"
   ]
  },
  {
   "cell_type": "code",
   "execution_count": 5,
   "metadata": {},
   "outputs": [
    {
     "name": "stdout",
     "output_type": "stream",
     "text": [
      "Circuit depth: 127\n",
      "Circuit total gate count: 376\n",
      "Circuit CNOT count: 48\n"
     ]
    }
   ],
   "source": [
    "print(\"Circuit depth:\", gci_circ.depth())\n",
    "print(\"Circuit total gate count:\", gci_circ.n_gates)\n",
    "num_cnots = sum(1 for command in gci_circ if command.op.type == OpType.CX)\n",
    "print(\"Circuit CNOT count:\", num_cnots)"
   ]
  },
  {
   "cell_type": "markdown",
   "metadata": {},
   "source": [
    "# Quantinuum preparation"
   ]
  },
  {
   "cell_type": "markdown",
   "metadata": {},
   "source": [
    "Let us check the size of the GCI circuit."
   ]
  },
  {
   "cell_type": "code",
   "execution_count": 6,
   "metadata": {},
   "outputs": [],
   "source": [
    "import qnexus as qnx"
   ]
  },
  {
   "cell_type": "code",
   "execution_count": 7,
   "metadata": {},
   "outputs": [
    {
     "name": "stdout",
     "output_type": "stream",
     "text": [
      "🌐 Browser log in initiated.\n"
     ]
    },
    {
     "data": {
      "text/html": [
       "<pre style=\"white-space:pre;overflow-x:auto;line-height:normal;font-family:Menlo,'DejaVu Sans Mono',consolas,'Courier New',monospace\">╭────────────────────────────────────────────────────────────────────────────────────────╮\n",
       "│                                                                                        │\n",
       "│         Confirm that the browser shows the following code and click 'allow device':    │\n",
       "│                                                                                        │\n",
       "│                                      Ji3ROA                                            │\n",
       "│                                                                                        │\n",
       "╰────────────────────────────────────────────────────────────────────────────────────────╯\n",
       "</pre>\n"
      ],
      "text/plain": [
       "╭────────────────────────────────────────────────────────────────────────────────────────╮\n",
       "│                                                                                        │\n",
       "│         Confirm that the browser shows the following code and click 'allow device':    │\n",
       "│                                                                                        │\n",
       "│                                      Ji3ROA                                            │\n",
       "│                                                                                        │\n",
       "╰────────────────────────────────────────────────────────────────────────────────────────╯\n"
      ]
     },
     "metadata": {},
     "output_type": "display_data"
    },
    {
     "name": "stdout",
     "output_type": "stream",
     "text": [
      "Browser didn't open automatically? Use this link: \u001b[34mhttps://nexus.quantinuum.com/auth/device/browser?otp=Ji3ROAtp0JEicYKJMXUTbM3sbA2761nl8HBset7_G4ZeTCx3YRgBU7khLs5ctrAI4LkUyb6D-H3sIx3tDwjnPg\n",
      "✅ Successfully logged in as xiaoyue.li@ntu.edu.sg using the browser.\n"
     ]
    }
   ],
   "source": [
    "# connect to nexus account\n",
    "qnx.client.auth.login()"
   ]
  },
  {
   "cell_type": "code",
   "execution_count": 8,
   "metadata": {},
   "outputs": [],
   "source": [
    "# connect to nexus project\n",
    "project_name = \"boostvqe_demo_XXZ\"\n",
    "project_ref = qnx.projects.get_or_create(name=project_name)\n",
    "project_ref.df()\n",
    "\n",
    "# set this in the context\n",
    "qnx.context.set_active_project(project_ref)"
   ]
  },
  {
   "cell_type": "markdown",
   "metadata": {},
   "source": [
    "### Hamiltonian in Pytket"
   ]
  },
  {
   "cell_type": "code",
   "execution_count": 9,
   "metadata": {},
   "outputs": [],
   "source": [
    "# XXZ model\n",
    "nqubits = 4\n",
    "delta = 0.5\n",
    "terms = {}\n",
    "for i in range(nqubits):\n",
    "    term_x_i = create_qubit_pauli_string(nqubits, {i: Pauli.X, (i+1)%nqubits: Pauli.X}, 1)\n",
    "    term_y_i = create_qubit_pauli_string(nqubits, {i: Pauli.Y, (i+1)%nqubits: Pauli.Y}, 1)\n",
    "    term_z_i = create_qubit_pauli_string(nqubits, {i: Pauli.Z, (i+1)%nqubits: Pauli.Z}, delta)\n",
    "    terms.update(term_x_i)\n",
    "    terms.update(term_y_i)\n",
    "    terms.update(term_z_i)\n",
    "ham_quantinuum = QubitPauliOperator(terms)"
   ]
  },
  {
   "cell_type": "markdown",
   "metadata": {},
   "source": [
    "### Measurement setup\n",
    "Based on the hamiltonian in Pauli basis, we create a list of measurement setup for evaluating each non-commuting set of Pauli components of the hamiltonian."
   ]
  },
  {
   "cell_type": "code",
   "execution_count": 10,
   "metadata": {},
   "outputs": [],
   "source": [
    "terms = [term for term in ham_quantinuum._dict.keys()]\n",
    "measurement_setup = measurement_reduction(\n",
    "    terms, strat=PauliPartitionStrat.CommutingSets\n",
    ")\n",
    "# for mc in measurement_setup.measurement_circs:\n",
    "#     render_circuit_jupyter(mc)"
   ]
  },
  {
   "cell_type": "markdown",
   "metadata": {},
   "source": [
    "Here, we have created measurement circuits for the $X$, $Y$, and $Z$ terms. Next, we can upload and compile the measurement circuits.\n",
    "\n",
    "## Compile circuits\n",
    "\n",
    "We are now running noiseless emulation."
   ]
  },
  {
   "cell_type": "code",
   "execution_count": 11,
   "metadata": {},
   "outputs": [],
   "source": [
    "optimisation_level = 2"
   ]
  },
  {
   "cell_type": "code",
   "execution_count": 12,
   "metadata": {},
   "outputs": [],
   "source": [
    "# create list of circuits for measurement in different bases\n",
    "vqe_circuit_ref_list = []\n",
    "gci_circuit_ref_list = []\n",
    "for i, mc in enumerate(measurement_setup.measurement_circs):\n",
    "    c = vqe_circ.copy()\n",
    "    c.append(mc)\n",
    "    measurement_vqe_circuit_ref = qnx.circuits.upload(\n",
    "                circuit=c, \n",
    "                name=f\"measurement vqe circuit {i}\",\n",
    "            )\n",
    "    c = gci_circ.copy()\n",
    "    c.append(mc)\n",
    "    measurement_gci_circuit_ref = qnx.circuits.upload(\n",
    "                circuit=c, \n",
    "                name=f\"measurement gci circuit {i}\",\n",
    "            )\n",
    "    vqe_circuit_ref_list.append(measurement_vqe_circuit_ref)\n",
    "    gci_circuit_ref_list.append(measurement_gci_circuit_ref)\n",
    "\n",
    "# compile vqe measurement circuit list\n",
    "compiled_vqe_circuit_refs = qnx.compile(\n",
    "            name=f\"compile_job_VQE_{datetime.now()}\",\n",
    "            circuits=vqe_circuit_ref_list,\n",
    "            optimisation_level=optimisation_level,\n",
    "            backend_config=qnx.QuantinuumConfig(device_name=\"H1-1LE\"),\n",
    "            timeout=None,\n",
    "        )\n",
    "\n",
    "# compile gci measurement circuit list\n",
    "compiled_gci_circuit_refs = qnx.compile(\n",
    "            name=f\"compile_job_GCI_{datetime.now()}\",\n",
    "            circuits=gci_circuit_ref_list,\n",
    "            optimisation_level=optimisation_level,\n",
    "            backend_config=qnx.QuantinuumConfig(device_name=\"H1-1LE\"),\n",
    "            timeout=None,\n",
    "        )"
   ]
  },
  {
   "cell_type": "markdown",
   "metadata": {},
   "source": [
    "# Run without noise"
   ]
  },
  {
   "cell_type": "code",
   "execution_count": 74,
   "metadata": {},
   "outputs": [],
   "source": [
    "# Configuration\n",
    "nshots = 2000\n",
    "backend_config = qnx.QuantinuumConfig(device_name=\"H1-1LE\") "
   ]
  },
  {
   "cell_type": "code",
   "execution_count": 83,
   "metadata": {},
   "outputs": [],
   "source": [
    "vqe_job_name = f\"execute_job_VQE_{nshots}shots_{datetime.now()}\"\n",
    "gci_job_name = f\"execute_job_GCI_{nshots}shots_{datetime.now()}\"\n",
    "results_vqe = qnx.start_execute_job(\n",
    "            name=vqe_job_name,\n",
    "            circuits=compiled_vqe_circuit_refs,\n",
    "            n_shots=[nshots]*len(vqe_circuit_ref_list),\n",
    "            backend_config=backend_config,\n",
    "        )\n",
    "results_gci = qnx.start_execute_job(\n",
    "            name=gci_job_name,\n",
    "            circuits=compiled_gci_circuit_refs,\n",
    "            n_shots=[nshots]*len(gci_circuit_ref_list),\n",
    "            backend_config=backend_config,\n",
    "        )"
   ]
  },
  {
   "cell_type": "code",
   "execution_count": 84,
   "metadata": {},
   "outputs": [],
   "source": [
    "from pathlib import Path\n",
    "folder_path = f'results/qnx_job_ref/{optimizer}_{nqubits}q_{nlayer}l_{optimisation_level}ol_XXZ/'\n",
    "os.makedirs(folder_path, exist_ok=True)\n",
    "qnx.filesystem.save(\n",
    "    ref=results_vqe,\n",
    "    path=Path.cwd() / folder_path / vqe_job_name,\n",
    "    mkdir=True,\n",
    ")\n",
    "\n",
    "from pathlib import Path\n",
    "qnx.filesystem.save(\n",
    "    ref=results_gci,\n",
    "    path=Path.cwd() /folder_path / gci_job_name,\n",
    "    mkdir=True,\n",
    ")"
   ]
  },
  {
   "cell_type": "markdown",
   "metadata": {},
   "source": [
    "# Retrieve noiseless results\n",
    "\n",
    "Without running repeated jobs, we can retrieve our results from the Qnexus project."
   ]
  },
  {
   "cell_type": "code",
   "execution_count": 22,
   "metadata": {},
   "outputs": [
    {
     "name": "stdout",
     "output_type": "stream",
     "text": [
      "JobStatus(status=<StatusEnum.COMPLETED: 'Circuit has completed. Results are ready.'>, message='The job is completed.', error_detail=None, completed_time=datetime.datetime(2024, 11, 20, 2, 27, 7, 585406, tzinfo=datetime.timezone.utc), queued_time=None, submitted_time=datetime.datetime(2024, 11, 20, 2, 24, 6, 841039, tzinfo=datetime.timezone.utc), running_time=datetime.datetime(2024, 11, 20, 2, 27, 1, 388992, tzinfo=datetime.timezone.utc), cancelled_time=None, error_time=None, queue_position=None)\n",
      "JobStatus(status=<StatusEnum.COMPLETED: 'Circuit has completed. Results are ready.'>, message='The job is completed.', error_detail=None, completed_time=datetime.datetime(2024, 11, 20, 2, 27, 10, 795352, tzinfo=datetime.timezone.utc), queued_time=None, submitted_time=datetime.datetime(2024, 11, 20, 2, 24, 7, 136623, tzinfo=datetime.timezone.utc), running_time=datetime.datetime(2024, 11, 20, 2, 27, 7, 877413, tzinfo=datetime.timezone.utc), cancelled_time=None, error_time=None, queue_position=None)\n"
     ]
    }
   ],
   "source": [
    "print(qnx.jobs.status(results_vqe))\n",
    "print(qnx.jobs.status(results_gci))"
   ]
  },
  {
   "cell_type": "code",
   "execution_count": 23,
   "metadata": {},
   "outputs": [],
   "source": [
    "vqe_results = [job.download_result() for job in qnx.jobs.results(results_vqe)]\n",
    "gci_results = [job.download_result() for job in qnx.jobs.results(results_gci)]"
   ]
  },
  {
   "cell_type": "code",
   "execution_count": 24,
   "metadata": {},
   "outputs": [
    {
     "name": "stdout",
     "output_type": "stream",
     "text": [
      "-6.323\n"
     ]
    }
   ],
   "source": [
    "expval_vqe = compute_expectation_value_from_results(\n",
    "    vqe_results, measurement_setup, ham_quantinuum\n",
    ")\n",
    "print(expval_vqe)"
   ]
  },
  {
   "cell_type": "code",
   "execution_count": 25,
   "metadata": {},
   "outputs": [
    {
     "name": "stdout",
     "output_type": "stream",
     "text": [
      "-6.623999999999999\n"
     ]
    }
   ],
   "source": [
    "expval_gci = compute_expectation_value_from_results(\n",
    "    gci_results, measurement_setup, ham_quantinuum\n",
    ")\n",
    "print(expval_gci)"
   ]
  },
  {
   "cell_type": "markdown",
   "metadata": {},
   "source": [
    "# With noise"
   ]
  },
  {
   "cell_type": "code",
   "execution_count": 49,
   "metadata": {},
   "outputs": [],
   "source": [
    "backend_config = qnx.QuantinuumConfig(\n",
    "    device_name='H1-Emulator',\n",
    "    attempt_batching=True,\n",
    ")\n",
    "nshots = 2000"
   ]
  },
  {
   "cell_type": "code",
   "execution_count": 72,
   "metadata": {},
   "outputs": [],
   "source": [
    "vqe_job_name_with_noise = f\"execute_job_VQE_{nshots}shots_noise_{datetime.now()}\"\n",
    "gci_job_name_with_noise = f\"execute_job_GCI_{nshots}shots_noise_{datetime.now()}\"\n",
    "results_vqe_noise = qnx.start_execute_job(\n",
    "            name=vqe_job_name_with_noise,\n",
    "            circuits=compiled_vqe_circuit_refs,\n",
    "            n_shots=[nshots]*len(vqe_circuit_ref_list),\n",
    "            backend_config=backend_config,\n",
    "        )\n",
    "results_gci_noise = qnx.start_execute_job(\n",
    "            name=gci_job_name_with_noise,\n",
    "            circuits=compiled_gci_circuit_refs,\n",
    "            n_shots=[nshots]*len(gci_circuit_ref_list),\n",
    "            backend_config=backend_config,\n",
    "        )"
   ]
  },
  {
   "cell_type": "code",
   "execution_count": 73,
   "metadata": {},
   "outputs": [],
   "source": [
    "from pathlib import Path\n",
    "folder_path = f'results/qnx_job_ref/{optimizer}_{nqubits}q_{nlayer}l_{optimisation_level}ol_XXZ/'\n",
    "os.makedirs(folder_path, exist_ok=True)\n",
    "qnx.filesystem.save(\n",
    "    ref=results_vqe_noise,\n",
    "    path=Path.cwd() / folder_path / vqe_job_name_with_noise,\n",
    "    mkdir=True,\n",
    ")\n",
    "\n",
    "from pathlib import Path\n",
    "qnx.filesystem.save(\n",
    "    ref=results_gci_noise,\n",
    "    path=Path.cwd() / folder_path / gci_job_name_with_noise,\n",
    "    mkdir=True,\n",
    ")"
   ]
  },
  {
   "cell_type": "markdown",
   "metadata": {},
   "source": [
    "# Retrieve noisy results"
   ]
  },
  {
   "cell_type": "code",
   "execution_count": null,
   "metadata": {},
   "outputs": [
    {
     "name": "stdout",
     "output_type": "stream",
     "text": [
      "JobStatus(status=<StatusEnum.COMPLETED: 'Circuit has completed. Results are ready.'>, message='The job is completed.', error_detail=None, completed_time=datetime.datetime(2024, 11, 19, 7, 42, 43, 989978, tzinfo=datetime.timezone.utc), queued_time=None, submitted_time=datetime.datetime(2024, 11, 19, 7, 42, 40, 957882, tzinfo=datetime.timezone.utc), running_time=datetime.datetime(2024, 11, 19, 7, 42, 41, 653110, tzinfo=datetime.timezone.utc), cancelled_time=None, error_time=None, queue_position=None)\n",
      "JobStatus(status=<StatusEnum.COMPLETED: 'Circuit has completed. Results are ready.'>, message='The job is completed.', error_detail=None, completed_time=datetime.datetime(2024, 11, 19, 7, 42, 57, 380991, tzinfo=datetime.timezone.utc), queued_time=None, submitted_time=datetime.datetime(2024, 11, 19, 7, 42, 41, 280360, tzinfo=datetime.timezone.utc), running_time=datetime.datetime(2024, 11, 19, 7, 42, 44, 660004, tzinfo=datetime.timezone.utc), cancelled_time=None, error_time=None, queue_position=None)\n"
     ]
    }
   ],
   "source": [
    "print(qnx.jobs.status(results_vqe_noise))\n",
    "print(qnx.jobs.status(results_gci_noise))"
   ]
  },
  {
   "cell_type": "code",
   "execution_count": null,
   "metadata": {},
   "outputs": [],
   "source": [
    "vqe_results_noise = [job.download_result() for job in qnx.jobs.results(results_vqe_noise)]\n",
    "gci_results_noise = [job.download_result() for job in qnx.jobs.results(results_gci_noise)]"
   ]
  },
  {
   "cell_type": "code",
   "execution_count": null,
   "metadata": {},
   "outputs": [
    {
     "name": "stdout",
     "output_type": "stream",
     "text": [
      "-6.217\n"
     ]
    }
   ],
   "source": [
    "expval_vqe_noise = compute_expectation_value_from_results(\n",
    "    vqe_results_noise, measurement_setup, ham_quantinuum\n",
    ")\n",
    "print(expval_vqe_noise)"
   ]
  },
  {
   "cell_type": "code",
   "execution_count": null,
   "metadata": {},
   "outputs": [
    {
     "name": "stdout",
     "output_type": "stream",
     "text": [
      "-6.468999999999999\n"
     ]
    }
   ],
   "source": [
    "expval_gci_noise = compute_expectation_value_from_results(\n",
    "    gci_results_noise, measurement_setup, ham_quantinuum\n",
    ")\n",
    "print(expval_gci_noise)"
   ]
  },
  {
   "cell_type": "markdown",
   "metadata": {},
   "source": [
    "# Prepare report"
   ]
  },
  {
   "cell_type": "code",
   "execution_count": null,
   "metadata": {},
   "outputs": [],
   "source": [
    "import qibo\n",
    "from qibo.backends import construct_backend\n",
    "from qibo import hamiltonians\n",
    "import matplotlib.pyplot as plt\n",
    "import numpy as np"
   ]
  },
  {
   "cell_type": "code",
   "execution_count": null,
   "metadata": {},
   "outputs": [
    {
     "name": "stderr",
     "output_type": "stream",
     "text": [
      "[Qibo 0.2.13|INFO|2024-11-19 15:43:27]: Using numpy backend on /CPU:0\n"
     ]
    }
   ],
   "source": [
    "qibo.set_backend(\"numpy\")"
   ]
  },
  {
   "cell_type": "code",
   "execution_count": null,
   "metadata": {},
   "outputs": [
    {
     "name": "stderr",
     "output_type": "stream",
     "text": [
      "[Qibo 0.2.13|WARNING|2024-11-19 15:43:28]: Calculating the dense form of a symbolic Hamiltonian. This operation is memory inefficient.\n"
     ]
    },
    {
     "data": {
      "text/plain": [
       "<matplotlib.colorbar.Colorbar at 0x176d52890>"
      ]
     },
     "execution_count": 30,
     "metadata": {},
     "output_type": "execute_result"
    },
    {
     "data": {
      "image/png": "[encoded data removed]",
      "text/plain": [
       "<Figure size 640x480 with 2 Axes>"
      ]
     },
     "metadata": {},
     "output_type": "display_data"
    }
   ],
   "source": [
    "nqubits = 4\n",
    "delta = 0.5\n",
    "ham = hamiltonians.XXZ(nqubits, delta, dense=False)\n",
    "plt.imshow(np.real(ham.matrix))\n",
    "plt.colorbar()"
   ]
  },
  {
   "cell_type": "markdown",
   "metadata": {},
   "source": []
  },
  {
   "cell_type": "code",
   "execution_count": null,
   "metadata": {},
   "outputs": [],
   "source": [
    "with open (vqe_circ_file, \"r\") as file:\n",
    "    vqe_circuit_qasm_str = file.read()\n",
    "    \n",
    "with open (gci_circ_file, \"r\") as file:\n",
    "    gci_circuit_qasm_str = file.read()"
   ]
  },
  {
   "cell_type": "code",
   "execution_count": null,
   "metadata": {},
   "outputs": [],
   "source": [
    "vqe_circ_qibo = qibo.models.Circuit.from_qasm(vqe_circuit_qasm_str)\n",
    "gci_circ_qibo = qibo.models.Circuit.from_qasm(gci_circuit_qasm_str)"
   ]
  },
  {
   "cell_type": "code",
   "execution_count": null,
   "metadata": {},
   "outputs": [],
   "source": [
    "report_quantinuum = report(vqe_circ_qibo, gci_circ_qibo, ham, expval_vqe, expval_gci, expval_vqe_noise, expval_gci_noise)"
   ]
  },
  {
   "cell_type": "markdown",
   "metadata": {},
   "source": []
  },
  {
   "cell_type": "code",
   "execution_count": null,
   "metadata": {},
   "outputs": [
    {
     "data": {
      "text/html": [
       "<div>\n",
       "<style scoped>\n",
       "    .dataframe tbody tr th:only-of-type {\n",
       "        vertical-align: middle;\n",
       "    }\n",
       "\n",
       "    .dataframe tbody tr th {\n",
       "        vertical-align: top;\n",
       "    }\n",
       "\n",
       "    .dataframe thead th {\n",
       "        text-align: right;\n",
       "    }\n",
       "</style>\n",
       "<table border=\"1\" class=\"dataframe\">\n",
       "  <thead>\n",
       "    <tr style=\"text-align: right;\">\n",
       "      <th></th>\n",
       "      <th>Analytical</th>\n",
       "      <th>Emulator</th>\n",
       "      <th>Emulator with Noise</th>\n",
       "    </tr>\n",
       "  </thead>\n",
       "  <tbody>\n",
       "    <tr>\n",
       "      <th>VQE energy</th>\n",
       "      <td>-6.309812</td>\n",
       "      <td>-6.333500</td>\n",
       "      <td>-6.217000</td>\n",
       "    </tr>\n",
       "    <tr>\n",
       "      <th>GCI energy</th>\n",
       "      <td>-6.654477</td>\n",
       "      <td>-6.534500</td>\n",
       "      <td>-6.469000</td>\n",
       "    </tr>\n",
       "    <tr>\n",
       "      <th>Difference to target (VQE)</th>\n",
       "      <td>0.434751</td>\n",
       "      <td>0.411063</td>\n",
       "      <td>0.527563</td>\n",
       "    </tr>\n",
       "    <tr>\n",
       "      <th>Difference to target (GCI)</th>\n",
       "      <td>0.090085</td>\n",
       "      <td>0.210063</td>\n",
       "      <td>0.275563</td>\n",
       "    </tr>\n",
       "    <tr>\n",
       "      <th>Percentage difference to target (VQE)</th>\n",
       "      <td>6.445942</td>\n",
       "      <td>6.094726</td>\n",
       "      <td>7.822044</td>\n",
       "    </tr>\n",
       "    <tr>\n",
       "      <th>Percentage difference to target (GCI)</th>\n",
       "      <td>1.335674</td>\n",
       "      <td>3.114548</td>\n",
       "      <td>4.085701</td>\n",
       "    </tr>\n",
       "    <tr>\n",
       "      <th>Fidelity witness (VQE)</th>\n",
       "      <td>0.841596</td>\n",
       "      <td>0.850227</td>\n",
       "      <td>0.807779</td>\n",
       "    </tr>\n",
       "    <tr>\n",
       "      <th>Fidelity witness (GCI)</th>\n",
       "      <td>0.967177</td>\n",
       "      <td>0.923462</td>\n",
       "      <td>0.899597</td>\n",
       "    </tr>\n",
       "  </tbody>\n",
       "</table>\n",
       "</div>"
      ],
      "text/plain": [
       "                                       Analytical  Emulator  \\\n",
       "VQE energy                              -6.309812 -6.333500   \n",
       "GCI energy                              -6.654477 -6.534500   \n",
       "Difference to target (VQE)               0.434751  0.411063   \n",
       "Difference to target (GCI)               0.090085  0.210063   \n",
       "Percentage difference to target (VQE)    6.445942  6.094726   \n",
       "Percentage difference to target (GCI)    1.335674  3.114548   \n",
       "Fidelity witness (VQE)                   0.841596  0.850227   \n",
       "Fidelity witness (GCI)                   0.967177  0.923462   \n",
       "\n",
       "                                       Emulator with Noise  \n",
       "VQE energy                                       -6.217000  \n",
       "GCI energy                                       -6.469000  \n",
       "Difference to target (VQE)                        0.527563  \n",
       "Difference to target (GCI)                        0.275563  \n",
       "Percentage difference to target (VQE)             7.822044  \n",
       "Percentage difference to target (GCI)             4.085701  \n",
       "Fidelity witness (VQE)                            0.807779  \n",
       "Fidelity witness (GCI)                            0.899597  "
      ]
     },
     "execution_count": 34,
     "metadata": {},
     "output_type": "execute_result"
    }
   ],
   "source": [
    "report_table(report_quantinuum)"
   ]
  }
 ],
 "metadata": {
  "kernelspec": {
   "display_name": "Python 3",
   "language": "python",
   "name": "python3"
  },
  "language_info": {
   "codemirror_mode": {
    "name": "ipython",
    "version": 3
   },
   "file_extension": ".py",
   "mimetype": "text/x-python",
   "name": "python",
   "nbconvert_exporter": "python",
   "pygments_lexer": "ipython3",
   "version": "3.11.10"
  }
 },
 "nbformat": 4,
 "nbformat_minor": 2
}
