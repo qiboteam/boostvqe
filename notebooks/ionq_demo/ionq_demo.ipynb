{
 "cells": [
  {
   "cell_type": "markdown",
   "metadata": {},
   "source": [
    "# IonQ Boostvqe demo\n",
    "\n",
    "In this notebook, we demonstrate how to run boostvqe on IonQ emulators (similarly hardwarws with some backend modifications).\n",
    "\n",
    "We are following on the DBQA GCI circuit synthesis notebook, which can be found following the link: https://github.com/qiboteam/boostvqe/blob/quantinuum_boostvqe-demo/notebooks/quantinuum_demo/gci_boostvqe_circuit_synthesis.ipynb\n",
    "\n",
    "It supplies a VQE and a GCI circuits in QASM format which we will load our circuits from."
   ]
  },
  {
   "cell_type": "markdown",
   "metadata": {},
   "source": [
    "## Step 1: Load circuits"
   ]
  },
  {
   "cell_type": "code",
   "execution_count": 1,
   "metadata": {},
   "outputs": [],
   "source": [
    "import numpy as np\n",
    "from qiskit import QuantumCircuit\n",
    "from qiskit.quantum_info import Statevector\n",
    "from qibo import hamiltonians\n",
    "import matplotlib.pyplot as plt\n",
    "from ionq_utils import *\n",
    "from scipy.linalg import eigh"
   ]
  },
  {
   "cell_type": "code",
   "execution_count": 2,
   "metadata": {},
   "outputs": [],
   "source": [
    "import os\n",
    "os.chdir('..')\n",
    "optimizer = 'sgd'\n",
    "nqubits = 4\n",
    "nlayer = 1\n",
    "folder_path = f'results/circuit_qasm/{optimizer}_{nqubits}q_{nlayer}l_XXZ/'\n",
    "vqe_circ_file = folder_path + 'vqe_circ.qasm'\n",
    "gci_circ_file = folder_path + 'gci_circ.qasm'"
   ]
  },
  {
   "cell_type": "code",
   "execution_count": 3,
   "metadata": {},
   "outputs": [],
   "source": [
    "vqe_circ = QuantumCircuit.from_qasm_file(vqe_circ_file)\n",
    "# render_circuit_jupyter(vqe_circ)"
   ]
  },
  {
   "cell_type": "code",
   "execution_count": 4,
   "metadata": {},
   "outputs": [],
   "source": [
    "gci_circ = QuantumCircuit.from_qasm_file(gci_circ_file)\n",
    "# render_circuit_jupyter(gci_circ)"
   ]
  },
  {
   "cell_type": "code",
   "execution_count": 5,
   "metadata": {},
   "outputs": [
    {
     "name": "stdout",
     "output_type": "stream",
     "text": [
      "Circuit depth: 235\n",
      "Circuit total gate count: 632\n",
      "Circuit CNOT count: 144\n"
     ]
    }
   ],
   "source": [
    "print(\"Circuit depth:\", gci_circ.depth())\n",
    "op_count = gci_circ.count_ops()\n",
    "print(\"Circuit total gate count:\", sum(op_count.values()))\n",
    "print(\"Circuit CNOT count:\", op_count['cx'])"
   ]
  },
  {
   "cell_type": "markdown",
   "metadata": {},
   "source": [
    "### Check analytical energy\n",
    "\n",
    "In this step we are making sure that the correct circuits have been imported."
   ]
  },
  {
   "cell_type": "code",
   "execution_count": 6,
   "metadata": {},
   "outputs": [],
   "source": [
    "# create target hamiltonian in qiskit\n",
    "ham = xxz_hamiltonian(4, 0.5)\n",
    "ham_matrix = ham.to_matrix()\n",
    "eigenvalues, eigenstates = eigh(ham_matrix)\n",
    "target_energy = eigenvalues[0]"
   ]
  },
  {
   "cell_type": "code",
   "execution_count": 7,
   "metadata": {},
   "outputs": [
    {
     "name": "stdout",
     "output_type": "stream",
     "text": [
      "Target energy: -6.744562646538019\n",
      "VQE energy: -6.309812021233839\n",
      "GCI energy: -6.741347828261663\n"
     ]
    }
   ],
   "source": [
    "state_vec_vqe = Statevector.from_instruction(vqe_circ)\n",
    "expectation_value_vqe = np.real(np.dot(state_vec_vqe.data.conj().T, np.dot(ham_matrix, state_vec_vqe.data)))\n",
    "state_vec_gci = Statevector.from_instruction(gci_circ)\n",
    "expectation_value_gci = np.real(np.dot(state_vec_gci.data.conj().T, np.dot(ham_matrix, state_vec_gci.data)))\n",
    "print(\"Target energy:\", target_energy)\n",
    "print(\"VQE energy:\", expectation_value_vqe)\n",
    "print(\"GCI energy:\", expectation_value_gci)"
   ]
  },
  {
   "cell_type": "markdown",
   "metadata": {},
   "source": [
    "## Step 2: Connect to IonQ server"
   ]
  },
  {
   "cell_type": "code",
   "execution_count": 8,
   "metadata": {},
   "outputs": [
    {
     "name": "stderr",
     "output_type": "stream",
     "text": [
      "/Users/pethidine/Documents/GitHub/boostvqe/.conda/lib/python3.11/site-packages/qiskit_ionq/helpers.py:563: UserWarning: Unable to get qubit count for simulator: 'qubits'. Defaulting to 100.\n",
      "  warnings.warn(\n",
      "/Users/pethidine/Documents/GitHub/boostvqe/.conda/lib/python3.11/site-packages/qiskit_ionq/helpers.py:563: UserWarning: Unable to get qubit count for ionq_qpu: 'qubits'. Defaulting to 100.\n",
      "  warnings.warn(\n",
      "/Users/pethidine/Documents/GitHub/boostvqe/.conda/lib/python3.11/site-packages/qiskit_ionq/helpers.py:563: UserWarning: Unable to get qubit count for ionq_simulator: 'qubits'. Defaulting to 100.\n",
      "  warnings.warn(\n"
     ]
    }
   ],
   "source": [
    "from qiskit_ionq import IonQProvider\n",
    "from copy import deepcopy\n",
    "\n",
    "my_api_key = \"pOiUVlzriOoF2wX1kp3lIqid1OMhwXZ5\"\n",
    "provider = IonQProvider(my_api_key)\n",
    "ionq_backend = provider.get_backend(\"ionq_simulator\")"
   ]
  },
  {
   "cell_type": "markdown",
   "metadata": {},
   "source": [
    "## Step 3: Prepare measurement circuits\n",
    "\n",
    "In this step, we prepare a list of measurement circuits to measure the energy expectation of the Hamiltonian.\n",
    "Since our example uses XXZ model, we will need to measure the circuits in 3 separate bases:\n",
    "1. X\n",
    "2. Y\n",
    "3. Z"
   ]
  },
  {
   "cell_type": "code",
   "execution_count": 9,
   "metadata": {},
   "outputs": [],
   "source": [
    "from pytket.extensions.qiskit import tk_to_qiskit\n",
    "from pytket.pauli import Pauli, QubitPauliString\n",
    "from pytket.circuit import Qubit\n",
    "from pytket.utils.operators import QubitPauliOperator"
   ]
  },
  {
   "cell_type": "code",
   "execution_count": 10,
   "metadata": {},
   "outputs": [],
   "source": [
    "meas_vqe_circ_list = rotate_circuit_XYZ(vqe_circ)\n",
    "meas_gci_circ_list = rotate_circuit_XYZ(gci_circ)"
   ]
  },
  {
   "cell_type": "markdown",
   "metadata": {},
   "source": [
    "## Step 4: Execute circuits\n"
   ]
  },
  {
   "cell_type": "code",
   "execution_count": 11,
   "metadata": {},
   "outputs": [],
   "source": [
    "zz = xxz_hamiltonian(4,1,select='ZZ').to_matrix()\n",
    "coef = [1,1,0.5]"
   ]
  },
  {
   "cell_type": "code",
   "execution_count": 29,
   "metadata": {},
   "outputs": [
    {
     "name": "stdout",
     "output_type": "stream",
     "text": [
      "XX: -3.0812240639999997\n",
      "YY: -1.96724834\n",
      "ZZ: -1.272256812\n",
      "Expectation energy: -6.320729216\n"
     ]
    }
   ],
   "source": [
    "shots = 1000\n",
    "observable_labels = ['XX', 'YY', 'ZZ']\n",
    "vqe_expectation = 0\n",
    "\n",
    "# Initialize a dictionary to store expectation values\n",
    "results = {\n",
    "    \"shots\": shots,\n",
    "    \"observables\": {},\n",
    "    \"total_expectation_energy\": 0.0\n",
    "}\n",
    "\n",
    "for i, qc_m in enumerate(meas_vqe_circ_list):\n",
    "    # Execute the measurement circuit\n",
    "    job = ionq_backend.run(qc_m, shots=shots)\n",
    "    result = job.result()\n",
    "    \n",
    "    # Retrieve the probability distribution\n",
    "    distribution = result.get_probabilities()\n",
    "    \n",
    "    # Compute the expectation value for the current observable\n",
    "    expectation = sample_to_expectation(zz, distribution) * coef[i]\n",
    "    \n",
    "    # Accumulate the expectation value\n",
    "    vqe_expectation += expectation\n",
    "    \n",
    "    # Store the expectation value in the results dictionary\n",
    "    observable_label = observable_labels[i]\n",
    "    results[\"observables\"][observable_label] = expectation\n",
    "    \n",
    "    # Print the expectation value for the current observable\n",
    "    print(f\"{observable_label}: {expectation}\")\n",
    "\n",
    "# Store the total expectation energy\n",
    "results[\"total_expectation_energy\"] = vqe_expectation\n",
    "print('Expectation energy:', vqe_expectation)"
   ]
  },
  {
   "cell_type": "code",
   "execution_count": 30,
   "metadata": {},
   "outputs": [
    {
     "name": "stdout",
     "output_type": "stream",
     "text": [
      "VQE results successfully saved to results/ionq_job_results/sgd_4q_1l_XXZ/1000shots_vqe_results.json\n"
     ]
    }
   ],
   "source": [
    "import json\n",
    "\n",
    "# Define the filename where you want to store the results\n",
    "folder_path = f'results/ionq_job_results/{optimizer}_{nqubits}q_{nlayer}l_XXZ/'\n",
    "os.makedirs(folder_path, exist_ok=True)\n",
    "file_path = folder_path + f'{shots}shots_vqe_results.json'\n",
    "# Open the file in write mode and dump the results dictionary\n",
    "with open(file_path, 'w') as f:\n",
    "    json.dump(results, f, indent=4)\n",
    "\n",
    "print(f\"VQE results successfully saved to {file_path}\")"
   ]
  },
  {
   "cell_type": "code",
   "execution_count": 31,
   "metadata": {},
   "outputs": [
    {
     "name": "stdout",
     "output_type": "stream",
     "text": [
      "XX: -2.7795153800000003\n",
      "YY: -2.7820648959999996\n",
      "ZZ: -1.180009208\n",
      "Expectation energy: -6.741589484\n"
     ]
    }
   ],
   "source": [
    "shots = 1000\n",
    "observable_labels = ['XX', 'YY', 'ZZ']\n",
    "gci_expectation = 0\n",
    "\n",
    "# Initialize a dictionary to store expectation values\n",
    "results = {\n",
    "    \"shots\": shots,\n",
    "    \"observables\": {},\n",
    "    \"total_expectation_energy\": 0.0\n",
    "}\n",
    "\n",
    "for i, qc_m in enumerate(meas_gci_circ_list):\n",
    "    # Execute the measurement circuit\n",
    "    job = ionq_backend.run(qc_m, shots=shots)\n",
    "    result = job.result()\n",
    "    \n",
    "    # Retrieve the probability distribution\n",
    "    distribution = result.get_probabilities()\n",
    "    \n",
    "    # Compute the expectation value for the current observable\n",
    "    expectation = sample_to_expectation(zz, distribution) * coef[i]\n",
    "    \n",
    "    # Accumulate the expectation value\n",
    "    gci_expectation += expectation\n",
    "    \n",
    "    # Store the expectation value in the results dictionary\n",
    "    observable_label = observable_labels[i]\n",
    "    results[\"observables\"][observable_label] = expectation\n",
    "    \n",
    "    # Print the expectation value for the current observable\n",
    "    print(f\"{observable_label}: {expectation}\")\n",
    "\n",
    "# Store the total expectation energy\n",
    "results[\"total_expectation_energy\"] = gci_expectation\n",
    "print('Expectation energy:', gci_expectation)\n"
   ]
  },
  {
   "cell_type": "code",
   "execution_count": 32,
   "metadata": {},
   "outputs": [
    {
     "name": "stdout",
     "output_type": "stream",
     "text": [
      "GCI results successfully saved to results/ionq_job_results/sgd_4q_1l_XXZ/1000shots_gci_results.json\n"
     ]
    }
   ],
   "source": [
    "# Define the filename where you want to store the results\n",
    "folder_path = f'results/ionq_job_results/{optimizer}_{nqubits}q_{nlayer}l_XXZ/'\n",
    "os.makedirs(folder_path, exist_ok=True)\n",
    "file_path = folder_path + f'{shots}shots_gci_results.json'\n",
    "# Open the file in write mode and dump the results dictionary\n",
    "with open(file_path, 'w') as f:\n",
    "    json.dump(results, f, indent=4)\n",
    "\n",
    "print(f\"GCI results successfully saved to {file_path}\")"
   ]
  },
  {
   "cell_type": "markdown",
   "metadata": {},
   "source": [
    "## Step 5: Run with noise"
   ]
  },
  {
   "cell_type": "code",
   "execution_count": 33,
   "metadata": {},
   "outputs": [
    {
     "name": "stdout",
     "output_type": "stream",
     "text": [
      "XX: -2.996\n",
      "YY: -1.884\n",
      "ZZ: -1.196\n",
      "Expectation energy: -6.076\n"
     ]
    }
   ],
   "source": [
    "shots = 1000\n",
    "vqe_expectation_noise = 0\n",
    "\n",
    "# Initialize a dictionary to store expectation values\n",
    "results = {\n",
    "    \"shots\": shots,\n",
    "    \"observables\": {},\n",
    "    \"total_expectation_energy\": 0.0\n",
    "}\n",
    "\n",
    "for i, qc_m in enumerate(meas_vqe_circ_list):\n",
    "    # Execute the measurement circuit\n",
    "    job = ionq_backend.run(qc_m, shots=shots, noise_model='aria-1')\n",
    "    result = job.result()\n",
    "    \n",
    "    # Retrieve the probability distribution\n",
    "    distribution = result.get_probabilities()\n",
    "    \n",
    "    # Compute the expectation value for the current observable\n",
    "    expectation = sample_to_expectation(zz, distribution) * coef[i]\n",
    "    \n",
    "    # Accumulate the expectation value\n",
    "    vqe_expectation_noise += expectation\n",
    "    \n",
    "    # Store the expectation value in the results dictionary\n",
    "    observable_label = observable_labels[i]\n",
    "    results[\"observables\"][observable_label] = expectation\n",
    "    \n",
    "    # Print the expectation value for the current observable\n",
    "    print(f\"{observable_label}: {expectation}\")\n",
    "\n",
    "# Store the total expectation energy\n",
    "results[\"total_expectation_energy\"] = vqe_expectation_noise\n",
    "print('Expectation energy:', vqe_expectation_noise)"
   ]
  },
  {
   "cell_type": "code",
   "execution_count": 21,
   "metadata": {},
   "outputs": [
    {
     "name": "stdout",
     "output_type": "stream",
     "text": [
      "VQE results successfully saved to results/ionq_job_results/sgd_4q_1l_XXZ/1000shots_vqe_results_noise.json\n"
     ]
    }
   ],
   "source": [
    "# Define the filename where you want to store the results\n",
    "folder_path = f'results/ionq_job_results/{optimizer}_{nqubits}q_{nlayer}l_XXZ/'\n",
    "os.makedirs(folder_path, exist_ok=True)\n",
    "file_path = folder_path + f'{shots}shots_vqe_results_noise.json'\n",
    "# Open the file in write mode and dump the results dictionary\n",
    "with open(file_path, 'w') as f:\n",
    "    json.dump(results, f, indent=4)\n",
    "\n",
    "print(f\"VQE results successfully saved to {file_path}\")"
   ]
  },
  {
   "cell_type": "code",
   "execution_count": 23,
   "metadata": {},
   "outputs": [
    {
     "name": "stdout",
     "output_type": "stream",
     "text": [
      "XX: -0.48\n",
      "YY: -0.45600000000000007\n",
      "ZZ: -0.254\n",
      "Expectation energy: -1.19\n"
     ]
    }
   ],
   "source": [
    "shots = 1000\n",
    "observable_labels = ['XX', 'YY', 'ZZ']\n",
    "gci_expectation_noise = 0\n",
    "\n",
    "# Initialize a dictionary to store expectation values\n",
    "results = {\n",
    "    \"shots\": shots,\n",
    "    \"observables\": {},\n",
    "    \"total_expectation_energy\": 0.0\n",
    "}\n",
    "\n",
    "for i, qc_m in enumerate(meas_gci_circ_list):\n",
    "    # Execute the measurement circuit\n",
    "    job = ionq_backend.run(qc_m, shots=shots, noise_model='aria-1')\n",
    "    result = job.result()\n",
    "    \n",
    "    # Retrieve the probability distribution\n",
    "    distribution = result.get_probabilities()\n",
    "    \n",
    "    # Compute the expectation value for the current observable\n",
    "    expectation = sample_to_expectation(zz, distribution) * coef[i]\n",
    "    \n",
    "    # Accumulate the expectation value\n",
    "    gci_expectation_noise += expectation\n",
    "    \n",
    "    # Store the expectation value in the results dictionary\n",
    "    observable_label = observable_labels[i]\n",
    "    results[\"observables\"][observable_label] = expectation\n",
    "    \n",
    "    # Print the expectation value for the current observable\n",
    "    print(f\"{observable_label}: {expectation}\")\n",
    "\n",
    "# Store the total expectation energy\n",
    "results[\"total_expectation_energy\"] = gci_expectation_noise\n",
    "print('Expectation energy:', gci_expectation_noise)"
   ]
  },
  {
   "cell_type": "code",
   "execution_count": 24,
   "metadata": {},
   "outputs": [
    {
     "name": "stdout",
     "output_type": "stream",
     "text": [
      "GCi results successfully saved to results/ionq_job_results/sgd_4q_1l_XXZ/1000shots_gci_results_noise.json\n"
     ]
    }
   ],
   "source": [
    "# Define the filename where you want to store the results\n",
    "folder_path = f'results/ionq_job_results/{optimizer}_{nqubits}q_{nlayer}l_XXZ/'\n",
    "os.makedirs(folder_path, exist_ok=True)\n",
    "file_path = folder_path + f'{shots}shots_gci_results_noise.json'\n",
    "# Open the file in write mode and dump the results dictionary\n",
    "with open(file_path, 'w') as f:\n",
    "    json.dump(results, f, indent=4)\n",
    "\n",
    "print(f\"GCi results successfully saved to {file_path}\")"
   ]
  },
  {
   "cell_type": "markdown",
   "metadata": {},
   "source": [
    "## Step 6: Load results"
   ]
  },
  {
   "cell_type": "code",
   "execution_count": 39,
   "metadata": {},
   "outputs": [],
   "source": [
    "import json\n",
    "results_folder =  f'results/ionq_job_results/{optimizer}_{nqubits}q_{nlayer}l_XXZ/'\n",
    "vqe_path = results_folder + '1000shots_vqe_results.json'\n",
    "with open(vqe_path, 'r') as f:\n",
    "    vqe_results = json.load(f)\n",
    "\n",
    "gci_path = results_folder + '1000shots_gci_results.json'\n",
    "with open(vqe_path, 'r') as f:\n",
    "    gci_results = json.load(f)\n",
    "\n",
    "vqe_path_noise = results_folder + '1000shots_vqe_results_noise.json'\n",
    "with open(vqe_path, 'r') as f:\n",
    "    vqe_results_noise = json.load(f)\n",
    "\n",
    "gci_path_noise = results_folder + '1000shots_gci_results_noise.json'\n",
    "with open(vqe_path, 'r') as f:\n",
    "    gci_results_noise = json.load(f)"
   ]
  },
  {
   "cell_type": "code",
   "execution_count": 44,
   "metadata": {},
   "outputs": [
    {
     "name": "stdout",
     "output_type": "stream",
     "text": [
      "-6.320729216\n"
     ]
    }
   ],
   "source": [
    "vqe_expectation = vqe_results['total_expectation_energy']\n",
    "gci_expectation = gci_results['total_expectation_energy']\n",
    "vqe_expectation_noise = vqe_results_noise['total_expectation_energy']\n",
    "gci_expectation_noise = gci_results_noise['total_expectation_energy']"
   ]
  },
  {
   "cell_type": "markdown",
   "metadata": {},
   "source": [
    "## Report"
   ]
  },
  {
   "cell_type": "code",
   "execution_count": 41,
   "metadata": {},
   "outputs": [],
   "source": [
    "report = report_ionq(expectation_value_vqe, expectation_value_gci, ham_matrix, vqe_expectation, gci_expectation, vqe_expectation_noise, gci_expectation_noise)"
   ]
  },
  {
   "cell_type": "code",
   "execution_count": 42,
   "metadata": {},
   "outputs": [
    {
     "ename": "NameError",
     "evalue": "name 'report_table' is not defined",
     "output_type": "error",
     "traceback": [
      "\u001b[0;31m---------------------------------------------------------------------------\u001b[0m",
      "\u001b[0;31mNameError\u001b[0m                                 Traceback (most recent call last)",
      "Cell \u001b[0;32mIn[42], line 1\u001b[0m\n\u001b[0;32m----> 1\u001b[0m df \u001b[38;5;241m=\u001b[39m \u001b[43mreport_table\u001b[49m(report)\n\u001b[1;32m      2\u001b[0m df\n",
      "\u001b[0;31mNameError\u001b[0m: name 'report_table' is not defined"
     ]
    }
   ],
   "source": [
    "df = report_table(report)\n",
    "df"
   ]
  },
  {
   "cell_type": "code",
   "execution_count": null,
   "metadata": {},
   "outputs": [],
   "source": []
  }
 ],
 "metadata": {
  "kernelspec": {
   "display_name": "Python 3",
   "language": "python",
   "name": "python3"
  },
  "language_info": {
   "codemirror_mode": {
    "name": "ipython",
    "version": 3
   },
   "file_extension": ".py",
   "mimetype": "text/x-python",
   "name": "python",
   "nbconvert_exporter": "python",
   "pygments_lexer": "ipython3",
   "version": "3.11.10"
  }
 },
 "nbformat": 4,
 "nbformat_minor": 2
}
