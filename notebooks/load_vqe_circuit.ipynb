{
 "cells": [
  {
   "cell_type": "code",
   "execution_count": null,
   "id": "e9d5cd59-7cca-4503-8b7c-6e8f897d21f3",
   "metadata": {},
   "outputs": [],
   "source": [
    "from qibo.models.variational import VQE\n",
    "from boostvqe.ansatze import build_circuit\n",
    "from qibo import hamiltonians\n",
    "from pathlib import Path"
   ]
  },
  {
   "cell_type": "code",
   "execution_count": null,
   "id": "5d728e04-2593-460d-9742-141e877038d0",
   "metadata": {},
   "outputs": [],
   "source": [
    "# insert path to parameters_history.npy\n",
    "path = Path(\"results/pure_vqe/BFGS_8q_1l_42/parameters_history.npy\")"
   ]
  },
  {
   "cell_type": "code",
   "execution_count": null,
   "id": "8ea9a16c-5608-4e79-8531-959119f360e1",
   "metadata": {},
   "outputs": [],
   "source": [
    "import numpy as np"
   ]
  },
  {
   "cell_type": "code",
   "execution_count": null,
   "id": "fdceaba2-f18d-4833-9345-99126c0e6970",
   "metadata": {},
   "outputs": [],
   "source": [
    "params = np.load(path, allow_pickle=True).tolist()"
   ]
  },
  {
   "cell_type": "code",
   "execution_count": null,
   "id": "5c4d9792-e59f-4af9-b587-e063f3e11d98",
   "metadata": {},
   "outputs": [],
   "source": [
    "params[0][-1]"
   ]
  },
  {
   "cell_type": "code",
   "execution_count": null,
   "id": "cb155d23-fb7f-4006-abda-828f1ab10441",
   "metadata": {},
   "outputs": [],
   "source": [
    "circuit = build_circuit(nqubits=8, nlayers=1)\n",
    "ham = hamiltonians.XXZ(nqubits=8)"
   ]
  },
  {
   "cell_type": "code",
   "execution_count": null,
   "id": "75e596da-0b44-4d60-aaad-bb83c99a1b89",
   "metadata": {},
   "outputs": [],
   "source": [
    "vqe = VQE(circuit=circuit, hamiltonian=ham)"
   ]
  },
  {
   "cell_type": "code",
   "execution_count": null,
   "id": "9dcc326c-31c6-48d2-b973-21c12648f4d2",
   "metadata": {},
   "outputs": [],
   "source": [
    "vqe.circuit.set_parameters(params[0][-1])"
   ]
  },
  {
   "cell_type": "code",
   "execution_count": null,
   "id": "9adf4d24-86c4-4dba-812f-b862f5342a5b",
   "metadata": {},
   "outputs": [],
   "source": [
    "final_state = vqe.circuit().state()"
   ]
  },
  {
   "cell_type": "code",
   "execution_count": null,
   "id": "342a296c-2ced-4abc-b3f3-526f706811cf",
   "metadata": {},
   "outputs": [],
   "source": [
    "final_state"
   ]
  },
  {
   "cell_type": "code",
   "execution_count": null,
   "id": "f6887f83-544b-488a-8853-3ef99d397775",
   "metadata": {},
   "outputs": [],
   "source": [
    "ham.expectation(final_state)"
   ]
  },
  {
   "cell_type": "code",
   "execution_count": null,
   "id": "798d0cc3-9937-40c6-8764-674fec559277",
   "metadata": {},
   "outputs": [],
   "source": []
  }
 ],
 "metadata": {
  "kernelspec": {
   "display_name": "Python 3 (ipykernel)",
   "language": "python",
   "name": "python3"
  },
  "language_info": {
   "codemirror_mode": {
    "name": "ipython",
    "version": 3
   },
   "file_extension": ".py",
   "mimetype": "text/x-python",
   "name": "python",
   "nbconvert_exporter": "python",
   "pygments_lexer": "ipython3",
   "version": "3.11.4"
  }
 },
 "nbformat": 4,
 "nbformat_minor": 5
}
